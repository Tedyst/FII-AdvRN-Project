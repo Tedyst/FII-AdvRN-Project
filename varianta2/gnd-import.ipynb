{
 "cells": [
  {
   "cell_type": "code",
   "execution_count": null,
   "metadata": {},
   "outputs": [],
   "source": [
    "import json\n",
    "from langchain_community.graphs.age_graph import AGEGraph\n",
    "import urllib.parse\n",
    "from dataclasses import dataclass\n",
    "import logging\n",
    "import sys\n",
    "from tqdm import tqdm\n",
    "logging.basicConfig(stream=sys.stdout, level=logging.DEBUG)\n",
    "\n",
    "\n",
    "database = {\n",
    "    \"dbname\": \"postgres\",\n",
    "    \"host\": \"localhost\",\n",
    "    \"user\": \"postgres\",\n",
    "    \"password\": \"password\",\n",
    "    \"port\": \"5432\"\n",
    "}\n",
    "\n",
    "try:\n",
    "    graph = AGEGraph(graph_name=\"gnd\", conf=database, create=True)\n",
    "    print(\"AGEGraph instance created successfully.\")\n",
    "except Exception as e:\n",
    "    print(f\"Failed to create AGEGraph instance: {e}\")"
   ]
  },
  {
   "cell_type": "code",
   "execution_count": 2,
   "metadata": {},
   "outputs": [],
   "source": [
    "from dataclasses import dataclass\n",
    "\n",
    "@dataclass\n",
    "class Subject:\n",
    "    code: str\n",
    "    name: str\n",
    "    classification_name: str\n",
    "    alternative_names: list[str]\n",
    "    related: list[str]"
   ]
  },
  {
   "cell_type": "code",
   "execution_count": 3,
   "metadata": {},
   "outputs": [
    {
     "name": "stderr",
     "output_type": "stream",
     "text": [
      "100%|██████████| 79427/79427 [01:42<00:00, 777.68it/s]\n"
     ]
    }
   ],
   "source": [
    "import json, urllib\n",
    "with open(\"llms4subjects/shared-task-datasets/GND/dataset/GND-Subjects-tib-core.json\", \"r\") as gnd_subjects_file:\n",
    "    gnd_subjects = json.load(gnd_subjects_file)\n",
    "\n",
    "subjects = [\n",
    "    Subject(\n",
    "        code=urllib.parse.quote_plus(subject[\"Code\"]),\n",
    "        name=urllib.parse.quote_plus(subject[\"Name\"]),\n",
    "        classification_name=urllib.parse.quote_plus(subject[\"Classification Name\"]),\n",
    "        alternative_names=[\n",
    "            urllib.parse.quote_plus(alternative_name)\n",
    "            for alternative_name in subject[\"Alternate Name\"]\n",
    "        ],\n",
    "        related=[\n",
    "            urllib.parse.quote_plus(related)\n",
    "            for related in subject[\"Related Subjects\"]\n",
    "        ]\n",
    "    )\n",
    "    for subject in gnd_subjects\n",
    "]\n",
    "\n",
    "for subject in tqdm(subjects):\n",
    "    graph.query(\n",
    "        f\"\"\"\n",
    "        CREATE (s:Subject {{code: '{subject.code}', name: '{subject.code}', classification_name: '{subject.classification_name}'}})\n",
    "        \"\"\",\n",
    "    )"
   ]
  },
  {
   "cell_type": "code",
   "execution_count": 4,
   "metadata": {},
   "outputs": [],
   "source": [
    "import psycopg2\n",
    "conn: psycopg2.extensions.connection = graph.connection\n",
    "conn.commit()\n",
    "with conn.cursor() as cursor:\n",
    "    cursor.execute(\"CREATE UNIQUE INDEX IF NOT EXISTS subject_code ON gnd.\\\"Subject\\\"(ag_catalog.agtype_access_operator(properties, '\\\"code\\\"'::agtype))\")\n",
    "\n",
    "conn.commit()"
   ]
  },
  {
   "cell_type": "code",
   "execution_count": 5,
   "metadata": {},
   "outputs": [
    {
     "name": "stderr",
     "output_type": "stream",
     "text": [
      "100%|██████████| 79427/79427 [44:22<00:00, 29.83it/s]  \n"
     ]
    }
   ],
   "source": [
    "from tqdm import tqdm\n",
    "conn.commit()\n",
    "for subject in tqdm(subjects):\n",
    "    for alternative_name in subject.alternative_names:\n",
    "        graph.query(\n",
    "            f\"\"\"\n",
    "            CREATE (a:AlternativeName {{name: \"{alternative_name}\"}})\n",
    "            \"\"\"\n",
    "        )\n",
    "        graph.query(\n",
    "            f\"\"\"\n",
    "            MATCH (s:Subject {{code: \"{subject.code}\"}}), (a:AlternativeName {{name: \"{alternative_name}\"}})\n",
    "                MERGE (s)-[:ALTERNATIVE_NAME]->(a)\n",
    "            \"\"\"\n",
    "        )"
   ]
  },
  {
   "cell_type": "code",
   "execution_count": 6,
   "metadata": {},
   "outputs": [],
   "source": [
    "import psycopg2\n",
    "conn: psycopg2.extensions.connection = graph.connection\n",
    "conn.commit()\n",
    "with conn.cursor() as cursor:\n",
    "    cursor.execute(\"CREATE INDEX IF NOT EXISTS alternativename_name ON gnd.\\\"AlternativeName\\\"(ag_catalog.agtype_access_operator(properties, '\\\"name\\\"'::agtype))\")\n",
    "conn.commit()"
   ]
  },
  {
   "cell_type": "code",
   "execution_count": 7,
   "metadata": {},
   "outputs": [
    {
     "name": "stderr",
     "output_type": "stream",
     "text": [
      "100%|██████████| 79427/79427 [18:33<00:00, 71.31it/s] \n"
     ]
    }
   ],
   "source": [
    "for subject in tqdm(subjects):\n",
    "    for related_subject in subject.related:\n",
    "        graph.query(\n",
    "            f\"\"\"\n",
    "            MATCH (s1:Subject {{name: \"{subject.name}\"}}), (s2:Subject {{name: \"{related_subject}\"}})\n",
    "                MERGE (s1)-[:RELATED]->(s2)\n",
    "            \"\"\"\n",
    "        )"
   ]
  }
 ],
 "metadata": {
  "kernelspec": {
   "display_name": "fii-advrn-project-h28zvCYG-py3.12",
   "language": "python",
   "name": "python3"
  },
  "language_info": {
   "codemirror_mode": {
    "name": "ipython",
    "version": 3
   },
   "file_extension": ".py",
   "mimetype": "text/x-python",
   "name": "python",
   "nbconvert_exporter": "python",
   "pygments_lexer": "ipython3",
   "version": "3.12.2"
  }
 },
 "nbformat": 4,
 "nbformat_minor": 2
}
