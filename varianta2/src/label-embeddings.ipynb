{
 "cells": [
  {
   "cell_type": "code",
   "execution_count": 1,
   "metadata": {},
   "outputs": [
    {
     "name": "stderr",
     "output_type": "stream",
     "text": [
      "/Users/tefannastasa/Library/Caches/pypoetry/virtualenvs/fii-advrn-project-h28zvCYG-py3.12/lib/python3.12/site-packages/tqdm/auto.py:21: TqdmWarning: IProgress not found. Please update jupyter and ipywidgets. See https://ipywidgets.readthedocs.io/en/stable/user_install.html\n",
      "  from .autonotebook import tqdm as notebook_tqdm\n"
     ]
    }
   ],
   "source": [
    "from transformers import AutoTokenizer, AutoModel\n",
    "import torch\n",
    "import psycopg2\n",
    "from tqdm import tqdm\n",
    "import json\n",
    "from psycopg2 import sql\n",
    "database = {\n",
    "    \"database\": \"postgres\",\n",
    "    \"user\": \"postgres\",\n",
    "    \"password\": \"password\",\n",
    "    \"host\": \"192.168.1.16\",\n",
    "    \"port\": \"5432\"\n",
    "}\n",
    "\n",
    "def connect_to_db():\n",
    "    return psycopg2.connect(\n",
    "        dbname=database[\"database\"],\n",
    "        user=database[\"user\"],\n",
    "        password=database[\"password\"],\n",
    "        host=database[\"host\"],\n",
    "        port=database[\"port\"]\n",
    "    )"
   ]
  },
  {
   "cell_type": "code",
   "execution_count": 2,
   "metadata": {},
   "outputs": [],
   "source": [
    "from transformers import AutoTokenizer, AutoModel\n",
    "import torch\n",
    "import base64\n",
    "\n",
    "\n",
    "def mean_pooling(model_output, attention_mask):\n",
    "    token_embeddings = model_output[0] \n",
    "    input_mask_expanded = attention_mask.unsqueeze(-1).expand(token_embeddings.size()).float()\n",
    "    return torch.sum(token_embeddings * input_mask_expanded, 1) / torch.clamp(input_mask_expanded.sum(1), min=1e-9)\n",
    "\n",
    "\n",
    "tokenizer = AutoTokenizer.from_pretrained('sentence-transformers/paraphrase-multilingual-MiniLM-L12-v2')\n",
    "model = AutoModel.from_pretrained('sentence-transformers/paraphrase-multilingual-MiniLM-L12-v2')"
   ]
  },
  {
   "cell_type": "code",
   "execution_count": 3,
   "metadata": {},
   "outputs": [
    {
     "name": "stdout",
     "output_type": "stream",
     "text": [
      "204740\n",
      "{'id': 844424930327868, 'label': 'Subject', 'properties': {'code': 'gnd:1022027832', 'name': 'Memristor', 'classification_name': 'Elektronik, Nachrichtentechnik'}}\n"
     ]
    }
   ],
   "source": [
    "conn = connect_to_db()\n",
    "curs = conn.cursor()\n",
    "\n",
    "curs.execute(f\"\"\"\n",
    "    SET search_path TO ag_catalog;\n",
    "    SELECT * FROM cypher('gnd', $$\n",
    "        MATCH (s:Subject)\n",
    "        RETURN s\n",
    "    $$) AS (result agtype);\n",
    "\"\"\")\n",
    "labels = curs.fetchall()\n",
    "\n",
    "labels = [json.loads(a[0].replace(\"::vertex\", \"\")) for a in labels]\n",
    "conn.close()\n",
    "\n",
    "print(len(labels))\n",
    "print(labels[23])"
   ]
  },
  {
   "cell_type": "code",
   "execution_count": 6,
   "metadata": {},
   "outputs": [
    {
     "name": "stderr",
     "output_type": "stream",
     "text": [
      "  0%|          | 0/20474 [00:00<?, ?it/s]"
     ]
    },
    {
     "name": "stdout",
     "output_type": "stream",
     "text": [
      "['DPSK Elektronik, Nachrichtentechnik', 'Frequenzdiversity Elektronik, Nachrichtentechnik', 'Antennendiversity Elektronik, Nachrichtentechnik', 'Empfängerdiversity Elektronik, Nachrichtentechnik', 'NAND-Gatter Elektronik, Nachrichtentechnik', 'DVB-SH Elektronik, Nachrichtentechnik', 'MediaFLO Elektronik, Nachrichtentechnik', 'Pentacon AK 8 Elektronik, Nachrichtentechnik', 'Kabelkopfstelle Elektronik, Nachrichtentechnik', 'DSSS Elektronik, Nachrichtentechnik']\n",
      "['DPSK Elektronik, Nachrichtentechnik', 'Frequenzdiversity Elektronik, Nachrichtentechnik', 'Antennendiversity Elektronik, Nachrichtentechnik', 'Empfängerdiversity Elektronik, Nachrichtentechnik', 'NAND-Gatter Elektronik, Nachrichtentechnik', 'DVB-SH Elektronik, Nachrichtentechnik', 'MediaFLO Elektronik, Nachrichtentechnik', 'Pentacon AK 8 Elektronik, Nachrichtentechnik', 'Kabelkopfstelle Elektronik, Nachrichtentechnik', 'DSSS Elektronik, Nachrichtentechnik']\n",
      "duplicate key value violates unique constraint \"label_embeddings_label_code_key\"\n",
      "DETAIL:  Key (label_code)=(gnd:7638168-7) already exists.\n",
      "\n"
     ]
    },
    {
     "name": "stderr",
     "output_type": "stream",
     "text": [
      "\n"
     ]
    }
   ],
   "source": [
    "import itertools\n",
    "import urllib\n",
    "def convert_to_embeddings(text):\n",
    "    tokenized_text = tokenizer(text, padding=True, truncation=True, return_tensors='pt')\n",
    "\n",
    "    with torch.no_grad():\n",
    "        model_output = model(**tokenized_text)\n",
    "\n",
    "    return mean_pooling(model_output, tokenized_text['attention_mask']).tolist()\n",
    "\n",
    "conn = connect_to_db()\n",
    "cursor = conn.cursor()\n",
    "batch_size = 10\n",
    "total_batches = len(labels)//batch_size\n",
    "commit_interval = 100\n",
    "for i, batch in enumerate(tqdm(itertools.batched(labels, batch_size), total= total_batches)):\n",
    "    text_data = []\n",
    "    for label in batch:\n",
    "        if 'name' in label['properties'].keys():\n",
    "            text = urllib.parse.unquote(label['properties']['name']) + \" \" + urllib.parse.unquote(label['properties']['classification_name'])\n",
    "        else:\n",
    "            text = urllib.parse.unquote(label['properties']['classification_name'])\n",
    "\n",
    "        text_data.append(text)\n",
    "\n",
    "    try:\n",
    "        print(text_data)\n",
    "        embeddings = convert_to_embeddings(text_data)\n",
    "        print(text_data)\n",
    "        query_params = [(urllib.parse.unquote(doc['properties']['code']), \"[\" + \",\".join(map(str, embedding)) + \"]\") for doc, embedding in zip(batch, embeddings)]\n",
    "\n",
    "        cursor.executemany(\"INSERT INTO label_embeddings (label_code, embedding) VALUES (%s, %s::vector)\", query_params)\n",
    "\n",
    "    except Exception as e:\n",
    "        print(e)\n",
    "        conn.rollback()\n",
    "        break\n",
    "    \n",
    "    if i % commit_interval == 0:\n",
    "        conn.commit()\n",
    "\n",
    "conn.commit()\n",
    "cursor.close()\n",
    "conn.close()\n"
   ]
  },
  {
   "cell_type": "code",
   "execution_count": 5,
   "metadata": {},
   "outputs": [
    {
     "ename": "InterfaceError",
     "evalue": "connection already closed",
     "output_type": "error",
     "traceback": [
      "\u001b[0;31m---------------------------------------------------------------------------\u001b[0m",
      "\u001b[0;31mInterfaceError\u001b[0m                            Traceback (most recent call last)",
      "Cell \u001b[0;32mIn[5], line 1\u001b[0m\n\u001b[0;32m----> 1\u001b[0m \u001b[43mconn\u001b[49m\u001b[38;5;241;43m.\u001b[39;49m\u001b[43mrollback\u001b[49m\u001b[43m(\u001b[49m\u001b[43m)\u001b[49m\n\u001b[1;32m      2\u001b[0m conn\u001b[38;5;241m.\u001b[39mclose()\n",
      "\u001b[0;31mInterfaceError\u001b[0m: connection already closed"
     ]
    }
   ],
   "source": [
    "conn.rollback()\n",
    "conn.close()"
   ]
  }
 ],
 "metadata": {
  "kernelspec": {
   "display_name": "fii-advrn-project-h28zvCYG-py3.12",
   "language": "python",
   "name": "python3"
  },
  "language_info": {
   "codemirror_mode": {
    "name": "ipython",
    "version": 3
   },
   "file_extension": ".py",
   "mimetype": "text/x-python",
   "name": "python",
   "nbconvert_exporter": "python",
   "pygments_lexer": "ipython3",
   "version": "3.12.2"
  }
 },
 "nbformat": 4,
 "nbformat_minor": 2
}
