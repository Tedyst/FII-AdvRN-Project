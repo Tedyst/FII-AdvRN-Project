{
 "cells": [
  {
   "cell_type": "code",
   "execution_count": 1,
   "metadata": {},
   "outputs": [],
   "source": [
    "import json\n",
    "from langchain_community.graphs.age_graph import AGEGraph\n",
    "import os\n",
    "from langchain_postgres import PGVector\n",
    "from langchain_postgres.vectorstores import PGVector\n",
    "import psycopg2\n",
    "import getpass\n",
    "import os\n",
    "import itertools\n",
    "\n",
    "\n",
    "database = {\n",
    "    \"database\": \"postgres\",\n",
    "    \"user\": \"postgres\",\n",
    "    \"password\": \"password\",\n",
    "    \"host\": \"192.168.1.16\",\n",
    "    \"port\": \"5432\"\n",
    "}"
   ]
  },
  {
   "cell_type": "code",
   "execution_count": 2,
   "metadata": {},
   "outputs": [],
   "source": [
    "connection = psycopg2.connect(\n",
    "    dbname=database[\"database\"],\n",
    "    user=database[\"user\"],\n",
    "    password=database[\"password\"],\n",
    "    host=database[\"host\"],\n",
    "    port=database[\"port\"]\n",
    ")"
   ]
  },
  {
   "cell_type": "code",
   "execution_count": 3,
   "metadata": {},
   "outputs": [],
   "source": [
    "from dataclasses import dataclass\n",
    "from typing import List\n",
    "@dataclass\n",
    "class Document:\n",
    "    id: str\n",
    "    subject_ids: List[str]\n",
    "    title: str\n",
    "    content: str\n",
    "    language: str"
   ]
  },
  {
   "cell_type": "code",
   "execution_count": 5,
   "metadata": {},
   "outputs": [
    {
     "name": "stdout",
     "output_type": "stream",
     "text": [
      "48882\n",
      "Document(id='https://www.tib.eu/de/suchen/id/TIBKAT%3A1653124245', subject_ids=['gnd:4022320-6', 'gnd:4007385-3'], title='Aktuelle%20Forschung%20in%20der%20Bodenmechanik%202013%20%3A%20Tagungsband%20zur%201.%20Deutschen%20Bodenmechanik%20Tagung%2C%20Bochum', content='Teil%20I%20Weiche%20B%C3%B6den%20%26%20Konsolidation%3A%20On%20the%20undrained%20analysis%20of%20soft%20anisotropic%20clays%20--%20Modeling%20of%20liquid%20and%20gas%20saturated%20porous%20solids%20under%20freezing%20and%20thawing%20cycles%20--%20Destructuration%20of%20soft%20clay%20during%20Shield%20TBM%20tunnelling%20and%20its%20consequences%20--%20Bodenmechanische%20Besonderheiten%20bei%20Flachgr%C3%BCndungen%20in%20normalkonsolidierten%20weichen%20B%C3%B6den%20-%20Fallbeispiele%20und%20Erkl%C3%A4rungsversuch%20--%20Cyclic%20consolidation%20of%20soft%20soils%20--%20Thermo-osmosis%20effect%20in%20one%20dimensional%20half%20space%20consolidation%20--%20Teil%20II%20Grenzzustand%20der%20Tragf%C3%A4higkeit%3A%20G%C3%BCltigkeitsgrenzen%20des%20statischen%20Kollapstheorems%20der%20Plastomechanik%20f%C3%BCr%20Reibungsb%C3%B6den%2C%20oder%20wie%20sind%20statische%20Annahmen%20und%20N%C3%A4herungen%20bei%20Standsicherheitsberechnungen%20in%20der%20Geotechnik%20zu%20w%C3%A4hlen%3F%20--%20Salzmechanik%20-%20Modellierung%20des%20Materialverhaltens%20und%20ingenieurpraktische%20Anwendung%20--%20Wasserbewegung%20in%20verdichteten%20Erdbauwerken%20aus%20feink%C3%B6rnigen%20B%C3%B6den%20--%20Teil%20III%20Grenzzust%C3%A4nde%20bei%20zyklischer%20Belastung%3A%20Zust%C3%A4nde%20der%20Grenztragf%C3%A4higkeit%20und%20Gebrauchstauglichkeit%20von%20B%C3%B6den%20unter%20zyklischer%20Belastung%20--%20Modell-%20und%20Elementversuche%20zur%20Beurteilung%20der%20Grenzzust%C3%A4nde%20zyklisch%20horizontal%20belasteter%20Pf%C3%A4hle%20--%20Elementversuche%20als%20Baustein%20im%20Tragf%C3%A4higkeitsnachweis%20zyklisch%20belasteter%20Pf%C3%A4hle.Die%20Deutsche%20Bodenmechanik%20Tagung%20hat%20sich%20zum%20Ziel%20gesetzt%2C%20der%20nationalen%20Bodenmechanik%20in%20ihrer%20Vielfalt%20ein%20Forum%20zum%20fachlichen%20Austausch%20und%20zur%20Diskussion%20aktueller%20Fragestellungen%20zu%20schaffen.%20Der%20vorliegende%20erste%20Tagungsband%20beinhaltet%20die%20Fachbeitr%C3%A4ge%20zu%20den%20Schwerpunktthemen%20%E2%80%9EWeiche%20B%C3%B6den%20und%20Konsolidation%E2%80%9C%2C%20%E2%80%9EGrenzzustand%20der%20Tragf%C3%A4higkeit%E2%80%9C%20und%20%E2%80%9EGrenzzust%C3%A4nde%20bei%20zyklischer%20Belastung%E2%80%9C.%20Die%20Tagung%20wurde%20vom%20Lehrstuhl%20f%C3%BCr%20Grundbau%2C%20Boden-%20und%20Felsmechanik%20der%20Ruhr-Universit%C3%A4t%20Bochum%20in%20Kooperation%20mit%20dem%20Lehrstuhl%20Baugrund-Grundbau%20der%20TU%20Dortmund%20veranstaltet.%20Sie%20fand%20unter%20der%20Schirmherrschaft%20der%20Deutschen%20Gesellschaft%20f%C3%BCr%20Geotechnik%20%28DGGT%29%20an%20der%20Ruhr-%20Universit%C3%A4t%20in%20Bochum%20statt.', language='de')\n"
     ]
    }
   ],
   "source": [
    "import urllib\n",
    "from psycopg2.extensions import adapt\n",
    "import base64\n",
    "documents = []\n",
    "\n",
    "\n",
    "for dirs, _, f in os.walk(\"../llms4subjects/shared-task-datasets/TIBKAT/tib-core-subjects/data\"):\n",
    "    for file in f:\n",
    "        with open(os.path.join(dirs, file)) as f:\n",
    "            data = json.load(f)[\"@graph\"]\n",
    "            subjects = []\n",
    "            article = None\n",
    "            id: str = \"\"\n",
    "            subject_ids = []\n",
    "            title: str = \"\"\n",
    "            content: str = \"\"\n",
    "            language: str = \"\"\n",
    "            for d in data:\n",
    "                if \"@type\" in d:\n",
    "                    \n",
    "                    content = \"\".join(d[\"abstract\"])\n",
    "                    id = str(d[\"@id\"])\n",
    "                    if type(d[\"title\"]) == str:\n",
    "                        title = d[\"title\"]\n",
    "                    elif type(d[\"title\"]) == list:\n",
    "                        title = d[\"title\"][0]\n",
    "                    if type(d[\"dcterms:subject\"]) == list:\n",
    "                        for subj in d[\"dcterms:subject\"]:\n",
    "                            s = subj[\"@id\"]\n",
    "                            subject_ids.append(s)\n",
    "                    else:\n",
    "                        subject_ids.append(d[\"dcterms:subject\"][\"@id\"])\n",
    "\n",
    "                    try:\n",
    "                        if type(d[\"language\"]) == str:\n",
    "                            language = d[\"language\"].split(\"/\")[-1]\n",
    "                    except KeyError as k:\n",
    "                        language = \"en\" if \"/en/\" in dirs else \"de\"\n",
    "\n",
    "            documents.append(\n",
    "                Document(\n",
    "                    id = id,\n",
    "                    subject_ids = subject_ids,\n",
    "                    title = urllib.parse.quote(title),\n",
    "                    content = urllib.parse.quote(content), \n",
    "                    language = language\n",
    "                )\n",
    "            )\n",
    "print(len(documents))\n",
    "print(documents[2])"
   ]
  },
  {
   "cell_type": "code",
   "execution_count": 51,
   "metadata": {},
   "outputs": [
    {
     "name": "stderr",
     "output_type": "stream",
     "text": [
      "100%|██████████| 4889/4889 [06:03<00:00, 13.46it/s]\n"
     ]
    }
   ],
   "source": [
    "import itertools\n",
    "from tqdm import tqdm\n",
    "\n",
    "connection = psycopg2.connect(\n",
    "    dbname=database[\"database\"],\n",
    "    user=database[\"user\"],\n",
    "    password=database[\"password\"],\n",
    "    host=database[\"host\"],\n",
    "    port=database[\"port\"]\n",
    ")\n",
    "\n",
    "curr = connection.cursor()\n",
    "curr.execute(\"SET search_path TO ag_catalog;\")\n",
    "curr.execute(\"CREATE INDEX doc_id ON gnd.\\\"Document\\\" USING gin (properties);\")\n",
    "curr.execute(\"\"\"SELECT * FROM pg_indexes WHERE tablename = '_ag_label_vertex';\"\"\")\n",
    "batch_size = 10\n",
    "total_batches = (len(documents) + batch_size - 1) // batch_size\n",
    "tx_commit_interval = 50\n",
    "for i, doc_batch in enumerate(tqdm(itertools.batched(documents, batch_size), total = total_batches)):\n",
    "    params = [(doc.id, doc.title, doc.content) for doc in doc_batch]\n",
    "    try:\n",
    "        curr.executemany(\n",
    "            \"\"\"\n",
    "            SELECT * FROM cypher('gnd', $$ \n",
    "                MATCH (d:Document {id: %s})\n",
    "                SET d.title = %s , d.content = %s\n",
    "                RETURN d\n",
    "            $$) AS (result agtype);\n",
    "            \"\"\",\n",
    "            params\n",
    "        )\n",
    "    except Exception as e:\n",
    "        connection.rollback()\n",
    "        connection.close()\n",
    "\n",
    "    if i % tx_commit_interval == 0:\n",
    "        connection.commit()\n",
    "\n",
    "connection.commit()\n",
    "connection.close()\n"
   ]
  },
  {
   "cell_type": "code",
   "execution_count": 64,
   "metadata": {},
   "outputs": [],
   "source": [
    "connection = psycopg2.connect(\n",
    "    dbname=database[\"database\"],\n",
    "    user=database[\"user\"],\n",
    "    password=database[\"password\"],\n",
    "    host=database[\"host\"],\n",
    "    port=database[\"port\"]\n",
    ")\n",
    "\n",
    "curr = connection.cursor()\n",
    "try:\n",
    "    curr.execute(\"DROP INDEX gnd.\\\"doc_id2\\\"\")\n",
    "    connection.commit()\n",
    "except Exception as e:\n",
    "    print(e)\n",
    "    connection.rollback()\n",
    "finally:\n",
    "    connection.close()"
   ]
  },
  {
   "cell_type": "code",
   "execution_count": 7,
   "metadata": {},
   "outputs": [
    {
     "name": "stderr",
     "output_type": "stream",
     "text": [
      "100%|██████████| 48882/48882 [20:16<00:00, 40.17it/s] \n"
     ]
    }
   ],
   "source": [
    "import itertools\n",
    "from tqdm import tqdm\n",
    "\n",
    "connection = psycopg2.connect(\n",
    "    dbname=database[\"database\"],\n",
    "    user=database[\"user\"],\n",
    "    password=database[\"password\"],\n",
    "    host=database[\"host\"],\n",
    "    port=database[\"port\"]\n",
    ")\n",
    "\n",
    "curr = connection.cursor()\n",
    "curr.execute(\"SET search_path TO ag_catalog;\")\n",
    "curr.execute(\"DROP INDEX IF EXISTS gnd.\\\"doc_id\\\"\")\n",
    "\n",
    "curr.execute(\"CREATE INDEX doc_id ON gnd.\\\"Document\\\" USING gin (properties);\")\n",
    "curr.execute(\"\"\"SELECT * FROM pg_indexes WHERE tablename = '_ag_label_vertex';\"\"\")\n",
    "batch_size = 10\n",
    "total_batches = (len(documents) + batch_size - 1) // batch_size\n",
    "tx_commit_interval = 50\n",
    "\n",
    "for i, doc in enumerate(tqdm(documents)):\n",
    "    if len(doc.subject_ids) > 1:\n",
    "        continue\n",
    "    for subj_id in doc.subject_ids:\n",
    "        try:\n",
    "            curr.execute(f\"\"\"\n",
    "                SELECT * FROM cypher('gnd', $$ \n",
    "                    MATCH (d:Document {{id: '{doc.id}'}}), (s:Subject {{code: '{subj_id}'}})\n",
    "                    MERGE (d)-[:DOC_SUBJECT]->(s)\n",
    "                    RETURN d\n",
    "                $$) AS (result agtype);\n",
    "            \"\"\")\n",
    "        except Exception as e:\n",
    "            curr.execute(\"DROP INDEX IF EXISTS gnd.\\\"doc_id\\\"\")\n",
    "            connection.rollback()\n",
    "            connection.close()\n",
    "\n",
    "    if i % tx_commit_interval == 0:\n",
    "        connection.commit()\n",
    "\n",
    "\n",
    "curr.execute(\"DROP INDEX IF EXISTS gnd.\\\"doc_id\\\"\")\n",
    "connection.commit()\n",
    "connection.close()\n"
   ]
  },
  {
   "cell_type": "code",
   "execution_count": 74,
   "metadata": {},
   "outputs": [
    {
     "ename": "InFailedSqlTransaction",
     "evalue": "current transaction is aborted, commands ignored until end of transaction block\n",
     "output_type": "error",
     "traceback": [
      "\u001b[0;31m---------------------------------------------------------------------------\u001b[0m",
      "\u001b[0;31mInFailedSqlTransaction\u001b[0m                    Traceback (most recent call last)",
      "Cell \u001b[0;32mIn[74], line 1\u001b[0m\n\u001b[0;32m----> 1\u001b[0m \u001b[43mcurr\u001b[49m\u001b[38;5;241;43m.\u001b[39;49m\u001b[43mexecute\u001b[49m\u001b[43m(\u001b[49m\u001b[38;5;124;43m\"\u001b[39;49m\u001b[38;5;124;43mDROP INDEX IF EXISTS gnd.\u001b[39;49m\u001b[38;5;130;43;01m\\\"\u001b[39;49;00m\u001b[38;5;124;43mdoc_id\u001b[39;49m\u001b[38;5;130;43;01m\\\"\u001b[39;49;00m\u001b[38;5;124;43m\"\u001b[39;49m\u001b[43m)\u001b[49m\n\u001b[1;32m      2\u001b[0m connection\u001b[38;5;241m.\u001b[39mcommit()\n\u001b[1;32m      3\u001b[0m connection\u001b[38;5;241m.\u001b[39mclose()\n",
      "\u001b[0;31mInFailedSqlTransaction\u001b[0m: current transaction is aborted, commands ignored until end of transaction block\n"
     ]
    }
   ],
   "source": [
    "curr.execute(\"DROP INDEX IF EXISTS gnd.\\\"doc_id\\\"\")\n",
    "connection.commit()\n",
    "connection.close()"
   ]
  }
 ],
 "metadata": {
  "kernelspec": {
   "display_name": "fii-advrn-project-h28zvCYG-py3.12",
   "language": "python",
   "name": "python3"
  },
  "language_info": {
   "codemirror_mode": {
    "name": "ipython",
    "version": 3
   },
   "file_extension": ".py",
   "mimetype": "text/x-python",
   "name": "python",
   "nbconvert_exporter": "python",
   "pygments_lexer": "ipython3",
   "version": "3.12.2"
  }
 },
 "nbformat": 4,
 "nbformat_minor": 2
}
