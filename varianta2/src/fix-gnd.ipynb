{
 "cells": [
  {
   "cell_type": "code",
   "execution_count": 10,
   "metadata": {},
   "outputs": [
    {
     "name": "stderr",
     "output_type": "stream",
     "text": [
      "/Users/tefannastasa/Library/Caches/pypoetry/virtualenvs/fii-advrn-project-h28zvCYG-py3.12/lib/python3.12/site-packages/tqdm/auto.py:21: TqdmWarning: IProgress not found. Please update jupyter and ipywidgets. See https://ipywidgets.readthedocs.io/en/stable/user_install.html\n",
      "  from .autonotebook import tqdm as notebook_tqdm\n"
     ]
    }
   ],
   "source": [
    "from transformers import AutoTokenizer, AutoModel\n",
    "import torch\n",
    "import psycopg2\n",
    "from tqdm import tqdm\n",
    "import json\n",
    "from psycopg2 import sql\n",
    "database = {\n",
    "    \"database\": \"postgres\",\n",
    "    \"user\": \"postgres\",\n",
    "    \"password\": \"password\",\n",
    "    \"host\": \"192.168.1.16\",\n",
    "    \"port\": \"5432\"\n",
    "}\n",
    "\n",
    "def connect_to_db():\n",
    "    return psycopg2.connect(\n",
    "        dbname=database[\"database\"],\n",
    "        user=database[\"user\"],\n",
    "        password=database[\"password\"],\n",
    "        host=database[\"host\"],\n",
    "        port=database[\"port\"]\n",
    "    )"
   ]
  },
  {
   "cell_type": "code",
   "execution_count": 38,
   "metadata": {},
   "outputs": [],
   "source": [
    "from dataclasses import dataclass\n",
    "import base64\n",
    "\n",
    "def encode_base64(value):\n",
    "    \"\"\"\n",
    "    Encodes a string into a Base64-encoded string using UTF-8.\n",
    "\n",
    "    Args:\n",
    "        value (str): The input string to encode.\n",
    "\n",
    "    Returns:\n",
    "        str: The Base64-encoded string, or None if the input is None.\n",
    "    \"\"\"\n",
    "    if value is None:\n",
    "        return None\n",
    "    return base64.b64encode(value.encode('utf-16')).decode('ascii')\n",
    "\n",
    "def decode_base64(value):\n",
    "    \"\"\"\n",
    "    Decodes a Base64-encoded string back to its original UTF-8 string.\n",
    "\n",
    "    Args:\n",
    "        value (str): The Base64-encoded string to decode.\n",
    "\n",
    "    Returns:\n",
    "        str: The original decoded string, or None if the input is None.\n",
    "    \"\"\"\n",
    "    if value is None:\n",
    "        return None\n",
    "    # Normalize padding\n",
    "    value = value.strip()\n",
    "    value += \"=\" * ((4 - len(value) % 4) % 4)\n",
    "    return base64.b64decode(value.encode('ascii')).decode('utf-16')\n",
    "\n",
    "@dataclass\n",
    "class Subject:\n",
    "    code: str\n",
    "    name: str\n",
    "    classification_name: str\n",
    "    alternative_names: list[str]\n",
    "    related: list[str]"
   ]
  },
  {
   "cell_type": "code",
   "execution_count": 47,
   "metadata": {},
   "outputs": [
    {
     "name": "stderr",
     "output_type": "stream",
     "text": [
      "80it [08:53,  6.67s/it]                        \n"
     ]
    }
   ],
   "source": [
    "import json, urllib, itertools\n",
    "with open(\"../llms4subjects/shared-task-datasets/GND/dataset/GND-Subjects-tib-core.json\", \"r\") as gnd_subjects_file:\n",
    "    gnd_subjects = json.load(gnd_subjects_file)\n",
    "\n",
    "subjects = [\n",
    "    Subject(\n",
    "        code=subject[\"Code\"],\n",
    "        name=urllib.parse.quote(subject[\"Name\"]),\n",
    "        classification_name=urllib.parse.quote(subject[\"Classification Name\"]),\n",
    "        alternative_names=[\n",
    "            urllib.parse.quote(alternative_name)\n",
    "            for alternative_name in subject[\"Alternate Name\"]\n",
    "        ],\n",
    "        related=[\n",
    "            urllib.parse.quote(related)\n",
    "            for related in subject[\"Related Subjects\"]\n",
    "        ]\n",
    "    )\n",
    "    for subject in gnd_subjects\n",
    "]\n",
    "\n",
    "conn = connect_to_db()\n",
    "curs = conn.cursor()\n",
    "curs.execute(\"SET search_path TO ag_catalog;\")\n",
    "batch_size = 1000\n",
    "total = len(subjects) // batch_size\n",
    "for subject in tqdm(itertools.batched(subjects, batch_size), total=total):\n",
    "\n",
    "    data = [(s.code, s.name) for s in subject]\n",
    "\n",
    "    curs.executemany(\n",
    "        f\"\"\"\n",
    "        SELECT * FROM cypher('gnd', $$\n",
    "            MATCH (d:Subject {{code: %s}})\n",
    "            SET d.name = %s\n",
    "            RETURN d\n",
    "        $$) AS (result agtype)\n",
    "        \"\"\", data\n",
    "    )\n",
    "\n",
    "conn.commit()\n",
    "conn.close()\n"
   ]
  },
  {
   "cell_type": "code",
   "execution_count": null,
   "metadata": {},
   "outputs": [],
   "source": []
  }
 ],
 "metadata": {
  "kernelspec": {
   "display_name": "fii-advrn-project-h28zvCYG-py3.12",
   "language": "python",
   "name": "python3"
  },
  "language_info": {
   "codemirror_mode": {
    "name": "ipython",
    "version": 3
   },
   "file_extension": ".py",
   "mimetype": "text/x-python",
   "name": "python",
   "nbconvert_exporter": "python",
   "pygments_lexer": "ipython3",
   "version": "3.12.2"
  }
 },
 "nbformat": 4,
 "nbformat_minor": 2
}
