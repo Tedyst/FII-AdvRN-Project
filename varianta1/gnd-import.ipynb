{
 "cells": [
  {
   "cell_type": "code",
   "execution_count": null,
   "metadata": {},
   "outputs": [],
   "source": [
    "import json\n",
    "from langchain_community.graphs.age_graph import AGEGraph\n",
    "import urllib.parse\n",
    "from dataclasses import dataclass\n",
    "import logging\n",
    "import sys\n",
    "from tqdm import tqdm\n",
    "logging.basicConfig(stream=sys.stdout, level=logging.DEBUG)\n",
    "\n",
    "\n",
    "database = {\n",
    "    \"dbname\": \"postgres\",\n",
    "    \"host\": \"localhost\",\n",
    "    \"user\": \"postgres\",\n",
    "    \"password\": \"password\",\n",
    "    \"port\": \"5432\"\n",
    "}\n",
    "\n",
    "try:\n",
    "    graph = AGEGraph(graph_name=\"gnd\", conf=database, create=True)\n",
    "    print(\"AGEGraph instance created successfully.\")\n",
    "except Exception as e:\n",
    "    print(f\"Failed to create AGEGraph instance: {e}\")"
   ]
  },
  {
   "cell_type": "code",
   "execution_count": 2,
   "metadata": {},
   "outputs": [],
   "source": [
    "from dataclasses import dataclass\n",
    "\n",
    "@dataclass\n",
    "class Subject:\n",
    "    code: str\n",
    "    name: str\n",
    "    classification_name: str\n",
    "    alternative_names: list[str]\n",
    "    related: list[str]"
   ]
  },
  {
   "cell_type": "code",
   "execution_count": 3,
   "metadata": {},
   "outputs": [
    {
     "name": "stderr",
     "output_type": "stream",
     "text": [
      "100%|██████████| 79427/79427 [01:42<00:00, 777.68it/s]\n"
     ]
    }
   ],
   "source": [
    "import json, urllib\n",
    "with open(\"llms4subjects/shared-task-datasets/GND/dataset/GND-Subjects-tib-core.json\", \"r\") as gnd_subjects_file:\n",
    "    gnd_subjects = json.load(gnd_subjects_file)\n",
    "\n",
    "subjects = [\n",
    "    Subject(\n",
    "        code=urllib.parse.quote_plus(subject[\"Code\"]),\n",
    "        name=urllib.parse.quote_plus(subject[\"Name\"]),\n",
    "        classification_name=urllib.parse.quote_plus(subject[\"Classification Name\"]),\n",
    "        alternative_names=[\n",
    "            urllib.parse.quote_plus(alternative_name)\n",
    "            for alternative_name in subject[\"Alternate Name\"]\n",
    "        ],\n",
    "        related=[\n",
    "            urllib.parse.quote_plus(related)\n",
    "            for related in subject[\"Related Subjects\"]\n",
    "        ]\n",
    "    )\n",
    "    for subject in gnd_subjects\n",
    "]\n",
    "\n",
    "for subject in tqdm(subjects):\n",
    "    graph.query(\n",
    "        f\"\"\"\n",
    "        CREATE (s:Subject {{code: '{subject.code}', name: '{subject.code}', classification_name: '{subject.classification_name}'}})\n",
    "        \"\"\",\n",
    "    )"
   ]
  },
  {
   "cell_type": "code",
   "execution_count": 4,
   "metadata": {},
   "outputs": [],
   "source": [
    "import psycopg2\n",
    "conn: psycopg2.extensions.connection = graph.connection\n",
    "conn.commit()\n",
    "with conn.cursor() as cursor:\n",
    "    cursor.execute(\"CREATE UNIQUE INDEX IF NOT EXISTS subject_code ON gnd.\\\"Subject\\\"(ag_catalog.agtype_access_operator(properties, '\\\"code\\\"'::agtype))\")\n",
    "\n",
    "conn.commit()"
   ]
  },
  {
   "cell_type": "code",
   "execution_count": 17,
   "metadata": {},
   "outputs": [
    {
     "data": {
      "text/plain": [
       "365526"
      ]
     },
     "execution_count": 17,
     "metadata": {},
     "output_type": "execute_result"
    }
   ],
   "source": [
    "os.getpid()"
   ]
  },
  {
   "cell_type": "code",
   "execution_count": 18,
   "metadata": {},
   "outputs": [],
   "source": [
    "with open(\"llms4subjects/shared-task-datasets/GND/dataset/GND-Subjects-all.json\", \"r\") as gnd_subjects_file:\n",
    "    gnd_subjects = json.load(gnd_subjects_file)\n",
    "\n",
    "subjects = [\n",
    "    Subject(\n",
    "        code=subject[\"Code\"].replace(\"\\\"\", \"'\"),\n",
    "        name=subject[\"Name\"].replace(\"\\\"\", \"'\"),\n",
    "        classification_name=subject[\"Classification Name\"].replace(\"\\\"\", \"'\"),\n",
    "        alternative_names=[s.replace(\"\\\"\", \"'\") for s in subject[\"Alternate Name\"]],\n",
    "        related=[s.replace(\"\\\"\", \"'\") for s in subject[\"Related Subjects\"]]\n",
    "    )\n",
    "    for subject in gnd_subjects\n",
    "]   "
   ]
  },
  {
   "cell_type": "code",
   "execution_count": 19,
   "metadata": {},
   "outputs": [
    {
     "name": "stdout",
     "output_type": "stream",
     "text": [
      "Merging data into graph\n"
     ]
    },
    {
     "name": "stderr",
     "output_type": "stream",
     "text": [
      "100%|██████████| 204739/204739 [04:18<00:00, 793.08it/s] \n"
     ]
    }
   ],
   "source": [
    "\n",
    "conn.commit()\n",
    "print(\"Merging data into graph\")\n",
    "\n",
    "graph.query(\"\"\"\n",
    "    MERGE (s:Subject {code: \"root\", classification_name: \"root\"})\n",
    "\"\"\")\n",
    "\n",
    "with conn.cursor() as cursor:\n",
    "    cursor.execute(\"\"\"\n",
    "        CREATE INDEX IF NOT EXISTS idx_subject_id ON gnd.\"Subject\" USING btree (id);\n",
    "    \"\"\")\n",
    "    cursor.execute(\"\"\"\n",
    "        CREATE INDEX IF NOT EXISTS subject_idx ON gnd.\"Subject\" USING gin (properties);\n",
    "    \"\"\")\n",
    "\n",
    "conn.commit()\n",
    "\n",
    "local_graphs = {}\n",
    "def add_subject(subject: Subject):\n",
    "    local_graph = local_graphs.get(os.getpid())\n",
    "    if local_graph is None:\n",
    "        local_graph = AGEGraph(graph_name=\"gnd\", conf=database, create=False)\n",
    "        local_graphs[os.getpid()] = local_graph\n",
    "    local_graph.query(f\"\"\"\n",
    "        MERGE (s:Subject {{code: \"{subject.code}\", classification_name: \"{subject.classification_name}\"}})\n",
    "    \"\"\")\n",
    "\n",
    "with Pool(8) as pool:\n",
    "    results = pool.imap_unordered(add_subject, subjects)\n",
    "    tqdm_bar = tqdm.tqdm(total=len(subjects))\n",
    "    while True:\n",
    "        try:\n",
    "            result = results.next(timeout=1000)\n",
    "            tqdm_bar.update()\n",
    "        except StopIteration:\n",
    "            break\n",
    "        except Exception as e:\n",
    "            break\n",
    "    for g in local_graphs.values():\n",
    "        g.connection.commit()\n",
    "        g.connection.close()\n",
    "    tqdm_bar.close()\n",
    "    pool.close()\n",
    "conn.commit()"
   ]
  },
  {
   "cell_type": "code",
   "execution_count": 20,
   "metadata": {},
   "outputs": [
    {
     "name": "stderr",
     "output_type": "stream",
     "text": [
      "100%|██████████| 79427/79427 [44:22<00:00, 29.83it/s]  \n"
     ]
    }
   ],
   "source": [
    "from tqdm import tqdm\n",
    "conn.commit()\n",
    "for subject in tqdm(subjects):\n",
    "    for alternative_name in subject.alternative_names:\n",
    "        graph.query(\n",
    "            f\"\"\"\n",
    "            CREATE (a:AlternativeName {{name: \"{alternative_name}\"}})\n",
    "            \"\"\"\n",
    "        )\n",
    "        graph.query(\n",
    "            f\"\"\"\n",
    "            MATCH (s:Subject {{code: \"{subject.code}\"}}), (a:AlternativeName {{name: \"{alternative_name}\"}})\n",
    "                MERGE (s)-[:ALTERNATIVE_NAME]->(a)\n",
    "            \"\"\"\n",
    "        )"
   ]
  },
  {
   "cell_type": "code",
   "execution_count": 21,
   "metadata": {},
   "outputs": [
    {
     "name": "stderr",
     "output_type": "stream",
     "text": [
      " 20%|██        | 41077/204739 [21:18<1:30:57, 29.99it/s]"
     ]
    },
    {
     "name": "stdout",
     "output_type": "stream",
     "text": [
      "Skipping Return on Investment due to weird bug\n"
     ]
    },
    {
     "name": "stderr",
     "output_type": "stream",
     "text": [
      " 20%|██        | 41329/204739 [21:28<1:56:33, 23.37it/s]"
     ]
    },
    {
     "name": "stdout",
     "output_type": "stream",
     "text": [
      "Skipping Return on Investment due to weird bug\n"
     ]
    },
    {
     "name": "stderr",
     "output_type": "stream",
     "text": [
      " 21%|██        | 42440/204739 [22:24<2:08:49, 21.00it/s]"
     ]
    },
    {
     "name": "stdout",
     "output_type": "stream",
     "text": [
      "Skipping Cashflow Return on Investment due to weird bug\n"
     ]
    },
    {
     "name": "stderr",
     "output_type": "stream",
     "text": [
      " 25%|██▌       | 51214/204739 [30:27<2:51:27, 14.92it/s]"
     ]
    },
    {
     "name": "stdout",
     "output_type": "stream",
     "text": [
      "Skipping Absolute Return due to weird bug\n"
     ]
    },
    {
     "name": "stderr",
     "output_type": "stream",
     "text": [
      " 75%|███████▍  | 153307/204739 [1:06:22<15:41, 54.62it/s] "
     ]
    },
    {
     "name": "stdout",
     "output_type": "stream",
     "text": [
      "Skipping Return of Spontaneous Circulation due to weird bug\n"
     ]
    },
    {
     "name": "stderr",
     "output_type": "stream",
     "text": [
      " 99%|█████████▉| 203402/204739 [1:19:40<00:12, 103.33it/s]"
     ]
    },
    {
     "name": "stdout",
     "output_type": "stream",
     "text": [
      "Skipping Return due to weird bug\n"
     ]
    },
    {
     "name": "stderr",
     "output_type": "stream",
     "text": [
      "100%|██████████| 204739/204739 [1:20:04<00:00, 42.61it/s] \n"
     ]
    }
   ],
   "source": [
    "for subject in tqdm(subjects):\n",
    "    for related_subject in subject.related:\n",
    "        graph.query(\n",
    "            f\"\"\"\n",
    "            MATCH (s1:Subject {{name: \"{subject.name}\"}}), (s2:Subject {{name: \"{related_subject}\"}})\n",
    "                MERGE (s1)-[:RELATED]->(s2)\n",
    "            \"\"\"\n",
    "        )"
   ]
  }
 ],
 "metadata": {
  "kernelspec": {
   "display_name": "fii-advrn-project-h28zvCYG-py3.12",
   "language": "python",
   "name": "python3"
  },
  "language_info": {
   "codemirror_mode": {
    "name": "ipython",
    "version": 3
   },
   "file_extension": ".py",
   "mimetype": "text/x-python",
   "name": "python",
   "nbconvert_exporter": "python",
   "pygments_lexer": "ipython3",
   "version": "3.12.2"
  }
 },
 "nbformat": 4,
 "nbformat_minor": 2
}
