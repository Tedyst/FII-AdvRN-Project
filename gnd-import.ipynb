{
 "cells": [
  {
   "cell_type": "code",
   "execution_count": 13,
   "metadata": {},
   "outputs": [],
   "source": [
    "import json\n",
    "from langchain_community.graphs.age_graph import AGEGraph\n",
    "from dataclasses import dataclass\n",
    "import tqdm\n",
    "from multiprocessing import Pool, get_context\n",
    "import os\n",
    "\n",
    "\n",
    "database = {\n",
    "    \"database\": \"postgres\",\n",
    "    \"user\": \"postgres\",\n",
    "    \"password\": \"password\",\n",
    "    \"host\": \"localhost\",\n",
    "    \"port\": \"5432\"\n",
    "}"
   ]
  },
  {
   "cell_type": "code",
   "execution_count": 14,
   "metadata": {},
   "outputs": [],
   "source": [
    "AGEGraph.refresh_schema = lambda self: None\n",
    "\n",
    "graph = AGEGraph(graph_name=\"gnd\", conf=database, create=True)"
   ]
  },
  {
   "cell_type": "code",
   "execution_count": 15,
   "metadata": {},
   "outputs": [],
   "source": [
    "@dataclass\n",
    "class Subject:\n",
    "    code: str\n",
    "    name: str\n",
    "    classification_name: str\n",
    "    alternative_names: list[str]\n",
    "    related: list[str]"
   ]
  },
  {
   "cell_type": "code",
   "execution_count": 16,
   "metadata": {},
   "outputs": [],
   "source": [
    "import psycopg2\n",
    "conn: psycopg2.extensions.connection = graph.connection\n",
    "\n",
    "with conn.cursor() as cursor:\n",
    "    cursor.execute(\"\"\"\n",
    "        CREATE INDEX IF NOT EXISTS idx_gnd_edge_end_id ON gnd._ag_label_edge USING btree (end_id);\n",
    "    \"\"\")\n",
    "    cursor.execute(\"\"\"\n",
    "        CREATE INDEX IF NOT EXISTS idx_gnd_edge_start_end ON gnd._ag_label_edge USING btree (start_id, end_id);\n",
    "    \"\"\")\n",
    "    cursor.execute(\"\"\"\n",
    "        CREATE INDEX IF NOT EXISTS idx_gnd_edge_start_id ON gnd._ag_label_edge USING btree (start_id);\n",
    "    \"\"\")\n",
    "\n",
    "conn.commit()"
   ]
  },
  {
   "cell_type": "code",
   "execution_count": 17,
   "metadata": {},
   "outputs": [
    {
     "data": {
      "text/plain": [
       "365526"
      ]
     },
     "execution_count": 17,
     "metadata": {},
     "output_type": "execute_result"
    }
   ],
   "source": [
    "os.getpid()"
   ]
  },
  {
   "cell_type": "code",
   "execution_count": 18,
   "metadata": {},
   "outputs": [],
   "source": [
    "with open(\"llms4subjects/shared-task-datasets/GND/dataset/GND-Subjects-all.json\", \"r\") as gnd_subjects_file:\n",
    "    gnd_subjects = json.load(gnd_subjects_file)\n",
    "\n",
    "subjects = [\n",
    "    Subject(\n",
    "        code=subject[\"Code\"].replace(\"\\\"\", \"'\"),\n",
    "        name=subject[\"Name\"].replace(\"\\\"\", \"'\"),\n",
    "        classification_name=subject[\"Classification Name\"].replace(\"\\\"\", \"'\"),\n",
    "        alternative_names=[s.replace(\"\\\"\", \"'\") for s in subject[\"Alternate Name\"]],\n",
    "        related=[s.replace(\"\\\"\", \"'\") for s in subject[\"Related Subjects\"]]\n",
    "    )\n",
    "    for subject in gnd_subjects\n",
    "]"
   ]
  },
  {
   "cell_type": "code",
   "execution_count": 19,
   "metadata": {},
   "outputs": [
    {
     "name": "stdout",
     "output_type": "stream",
     "text": [
      "Merging data into graph\n"
     ]
    },
    {
     "name": "stderr",
     "output_type": "stream",
     "text": [
      "100%|██████████| 204739/204739 [04:18<00:00, 793.08it/s] \n"
     ]
    }
   ],
   "source": [
    "\n",
    "conn.commit()\n",
    "print(\"Merging data into graph\")\n",
    "\n",
    "graph.query(\"\"\"\n",
    "    MERGE (s:Subject {code: \"root\", classification_name: \"root\"})\n",
    "\"\"\")\n",
    "\n",
    "with conn.cursor() as cursor:\n",
    "    cursor.execute(\"\"\"\n",
    "        CREATE INDEX IF NOT EXISTS idx_subject_id ON gnd.\"Subject\" USING btree (id);\n",
    "    \"\"\")\n",
    "    cursor.execute(\"\"\"\n",
    "        CREATE INDEX IF NOT EXISTS subject_idx ON gnd.\"Subject\" USING gin (properties);\n",
    "    \"\"\")\n",
    "\n",
    "conn.commit()\n",
    "\n",
    "local_graphs = {}\n",
    "def add_subject(subject: Subject):\n",
    "    local_graph = local_graphs.get(os.getpid())\n",
    "    if local_graph is None:\n",
    "        local_graph = AGEGraph(graph_name=\"gnd\", conf=database, create=False)\n",
    "        local_graphs[os.getpid()] = local_graph\n",
    "    local_graph.query(f\"\"\"\n",
    "        MERGE (s:Subject {{code: \"{subject.code}\", classification_name: \"{subject.classification_name}\"}})\n",
    "    \"\"\")\n",
    "\n",
    "with Pool(8) as pool:\n",
    "    results = pool.imap_unordered(add_subject, subjects)\n",
    "    tqdm_bar = tqdm.tqdm(total=len(subjects))\n",
    "    while True:\n",
    "        try:\n",
    "            result = results.next(timeout=1000)\n",
    "            tqdm_bar.update()\n",
    "        except StopIteration:\n",
    "            break\n",
    "        except Exception as e:\n",
    "            break\n",
    "    for g in local_graphs.values():\n",
    "        g.connection.commit()\n",
    "        g.connection.close()\n",
    "    tqdm_bar.close()\n",
    "    pool.close()\n",
    "conn.commit()"
   ]
  },
  {
   "cell_type": "code",
   "execution_count": 20,
   "metadata": {},
   "outputs": [
    {
     "name": "stderr",
     "output_type": "stream",
     "text": [
      " 20%|██        | 41059/204739 [02:58<20:48, 131.08it/s]"
     ]
    },
    {
     "name": "stdout",
     "output_type": "stream",
     "text": [
      "Skipping Return on Capital Employed due to weird bug\n",
      "Skipping Investition,Return on Investment due to weird bug\n",
      "Skipping Return on Investment due to weird bug\n"
     ]
    },
    {
     "name": "stderr",
     "output_type": "stream",
     "text": [
      " 20%|██        | 41316/204739 [03:00<17:14, 157.93it/s]"
     ]
    },
    {
     "name": "stdout",
     "output_type": "stream",
     "text": [
      "Skipping Social Return on Investment due to weird bug\n"
     ]
    },
    {
     "name": "stderr",
     "output_type": "stream",
     "text": [
      " 21%|██        | 42422/204739 [03:06<09:12, 293.82it/s]"
     ]
    },
    {
     "name": "stdout",
     "output_type": "stream",
     "text": [
      "Skipping Cashflow Return on Investment due to weird bug\n"
     ]
    },
    {
     "name": "stderr",
     "output_type": "stream",
     "text": [
      " 22%|██▏       | 44578/204739 [03:14<11:39, 229.11it/s]"
     ]
    },
    {
     "name": "stdout",
     "output_type": "stream",
     "text": [
      "Skipping Return to education due to weird bug\n",
      "Skipping Return to schooling due to weird bug\n"
     ]
    },
    {
     "name": "stderr",
     "output_type": "stream",
     "text": [
      " 22%|██▏       | 44799/204739 [03:15<11:29, 231.97it/s]"
     ]
    },
    {
     "name": "stdout",
     "output_type": "stream",
     "text": [
      "Skipping Returns to scale due to weird bug\n"
     ]
    },
    {
     "name": "stderr",
     "output_type": "stream",
     "text": [
      " 25%|██▌       | 51203/204739 [03:46<18:51, 135.67it/s]"
     ]
    },
    {
     "name": "stdout",
     "output_type": "stream",
     "text": [
      "Skipping Absolute-Return-Strategie due to weird bug\n",
      "Skipping Absolute-Return-Konzept due to weird bug\n",
      "Skipping Absolute-Return-Ansatz due to weird bug\n",
      "Skipping Absolute Return due to weird bug\n"
     ]
    },
    {
     "name": "stderr",
     "output_type": "stream",
     "text": [
      " 75%|███████▍  | 153288/204739 [13:47<07:48, 109.93it/s]"
     ]
    },
    {
     "name": "stdout",
     "output_type": "stream",
     "text": [
      "Skipping Return of Spontaneous Circulation due to weird bug\n"
     ]
    },
    {
     "name": "stderr",
     "output_type": "stream",
     "text": [
      " 99%|█████████▉| 203388/204739 [19:59<00:10, 130.51it/s]"
     ]
    },
    {
     "name": "stdout",
     "output_type": "stream",
     "text": [
      "Skipping Return due to weird bug\n"
     ]
    },
    {
     "name": "stderr",
     "output_type": "stream",
     "text": [
      "100%|██████████| 204739/204739 [20:16<00:00, 168.30it/s]\n"
     ]
    }
   ],
   "source": [
    "graph.connection.commit()\n",
    "\n",
    "graph.query(\"\"\"\n",
    "    MERGE (a:AlternativeName {name: \"root\"})\n",
    "\"\"\")\n",
    "graph.query(\n",
    "    f\"\"\"\n",
    "    MATCH (s:Subject {{code: \"root\"}}), (a:AlternativeName {{name: \"root\"}})\n",
    "        MERGE (s)-[:ALTERNATIVE_NAME]->(a)\n",
    "    \"\"\"\n",
    ")\n",
    "\n",
    "with conn.cursor() as cursor:\n",
    "    cursor.execute(\"\"\"\n",
    "        CREATE INDEX IF NOT EXISTS alternativename_idx ON gnd.\"AlternativeName\" USING gin (properties)\n",
    "    \"\"\")\n",
    "    cursor.execute(\"\"\"\n",
    "        CREATE INDEX IF NOT EXISTS idx_alternative_name_id ON gnd.\"AlternativeName\" USING btree (id);\n",
    "    \"\"\")\n",
    "    cursor.execute(\"\"\"\n",
    "        CREATE INDEX IF NOT EXISTS age_default_alias_start_id_idx ON gnd.\"ALTERNATIVE_NAME\" (start_id);\n",
    "    \"\"\")\n",
    "    cursor.execute(\"\"\"\n",
    "        CREATE INDEX IF NOT EXISTS age_default_alias_end_id_idx ON gnd.\"ALTERNATIVE_NAME\" (end_id);\n",
    "    \"\"\")\n",
    "\n",
    "conn.commit()\n",
    "\n",
    "local_graphs = {}\n",
    "def add_alternative_names(subject: Subject):\n",
    "    local_graph = local_graphs.get(os.getpid())\n",
    "    if local_graph is None:\n",
    "        local_graph = AGEGraph(graph_name=\"gnd\", conf=database, create=False)\n",
    "        local_graphs[os.getpid()] = local_graph\n",
    "    for alternative_name in [*subject.alternative_names, subject.name]:\n",
    "        if \"return\" in alternative_name.lower():\n",
    "            print(f\"Skipping {alternative_name} due to weird bug\")\n",
    "            continue\n",
    "        local_graph.query(\n",
    "            f\"\"\"\n",
    "            MERGE (a:AlternativeName {{name: \"{alternative_name}\"}})\n",
    "            \"\"\"\n",
    "        )\n",
    "        local_graph.query(\n",
    "            f\"\"\"\n",
    "            MATCH (s:Subject {{code: \"{subject.code}\"}}), (a:AlternativeName {{name: \"{alternative_name}\"}})\n",
    "                MERGE (s)-[:ALTERNATIVE_NAME]->(a)\n",
    "            \"\"\"\n",
    "        )\n",
    "\n",
    "with Pool(8) as pool:\n",
    "    results = pool.imap_unordered(add_alternative_names, subjects)\n",
    "    tqdm_bar2 = tqdm.tqdm(total=len(subjects))\n",
    "    while True:\n",
    "        try:\n",
    "            result = results.next(timeout=1000)\n",
    "            tqdm_bar2.update()\n",
    "        except StopIteration:\n",
    "            break\n",
    "        except Exception as e:\n",
    "            print(e)\n",
    "            break\n",
    "    for g in local_graphs.values():\n",
    "        g.connection.commit()\n",
    "        g.connection.close()\n",
    "    tqdm_bar2.close()\n",
    "    pool.close()"
   ]
  },
  {
   "cell_type": "code",
   "execution_count": 12,
   "metadata": {},
   "outputs": [
    {
     "name": "stderr",
     "output_type": "stream",
     "text": [
      " 20%|██        | 41077/204739 [21:18<1:30:57, 29.99it/s]"
     ]
    },
    {
     "name": "stdout",
     "output_type": "stream",
     "text": [
      "Skipping Return on Investment due to weird bug\n"
     ]
    },
    {
     "name": "stderr",
     "output_type": "stream",
     "text": [
      " 20%|██        | 41329/204739 [21:28<1:56:33, 23.37it/s]"
     ]
    },
    {
     "name": "stdout",
     "output_type": "stream",
     "text": [
      "Skipping Return on Investment due to weird bug\n"
     ]
    },
    {
     "name": "stderr",
     "output_type": "stream",
     "text": [
      " 21%|██        | 42440/204739 [22:24<2:08:49, 21.00it/s]"
     ]
    },
    {
     "name": "stdout",
     "output_type": "stream",
     "text": [
      "Skipping Cashflow Return on Investment due to weird bug\n"
     ]
    },
    {
     "name": "stderr",
     "output_type": "stream",
     "text": [
      " 25%|██▌       | 51214/204739 [30:27<2:51:27, 14.92it/s]"
     ]
    },
    {
     "name": "stdout",
     "output_type": "stream",
     "text": [
      "Skipping Absolute Return due to weird bug\n"
     ]
    },
    {
     "name": "stderr",
     "output_type": "stream",
     "text": [
      " 35%|███▌      | 71879/204739 [55:04<15:14, 145.22it/s] "
     ]
    }
   ],
   "source": [
    "for subject in tqdm.tqdm(subjects):\n",
    "    if \"return\" in subject.name.lower():\n",
    "        print(f\"Skipping {subject.name} due to weird bug\")\n",
    "        continue\n",
    "    for related_subject in subject.related:\n",
    "        if \"return\" in related_subject.lower():\n",
    "            print(f\"Skipping {related_subject} due to weird bug\")\n",
    "            continue\n",
    "        graph.query(\n",
    "            f\"\"\"\n",
    "            MATCH (s1:Subject {{code: \"{subject.code}\"}}), (s2:Subject)-[:ALTERNATIVE_NAME]->(a:AlternativeName {{name: \"{related_subject}\"}})\n",
    "                MERGE (s1)-[:RELATED]->(s2)\n",
    "            \"\"\"\n",
    "        )\n",
    "\n",
    "graph.connection.commit()"
   ]
  }
 ],
 "metadata": {
  "kernelspec": {
   "display_name": "fii-advrn-project-OBGXxNtN-py3.12",
   "language": "python",
   "name": "python3"
  },
  "language_info": {
   "codemirror_mode": {
    "name": "ipython",
    "version": 3
   },
   "file_extension": ".py",
   "mimetype": "text/x-python",
   "name": "python",
   "nbconvert_exporter": "python",
   "pygments_lexer": "ipython3",
   "version": "3.12.7"
  }
 },
 "nbformat": 4,
 "nbformat_minor": 2
}
