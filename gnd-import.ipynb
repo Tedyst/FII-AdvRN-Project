{
 "cells": [
  {
   "cell_type": "code",
   "execution_count": 57,
   "metadata": {},
   "outputs": [],
   "source": [
    "import json\n",
    "from langchain_community.graphs.age_graph import AGEGraph\n",
    "import urllib.parse\n",
    "from dataclasses import dataclass\n",
    "\n",
    "\n",
    "database = {\n",
    "    \"database\": \"postgres\",\n",
    "    \"user\": \"postgres\",\n",
    "    \"password\": \"password\",\n",
    "    \"host\": \"localhost\",\n",
    "    \"port\": \"5432\"\n",
    "}"
   ]
  },
  {
   "cell_type": "code",
   "execution_count": 58,
   "metadata": {},
   "outputs": [
    {
     "name": "stdout",
     "output_type": "stream",
     "text": [
      "\n",
      "        Node properties are the following:\n",
      "        []\n",
      "        Relationship properties are the following:\n",
      "        []\n",
      "        The relationships are the following:\n",
      "        []\n",
      "        \n"
     ]
    }
   ],
   "source": [
    "graph = AGEGraph(graph_name=\"gnd\", conf=database, create=True)\n",
    "\n",
    "graph.refresh_schema()\n",
    "\n",
    "print(graph.schema)"
   ]
  },
  {
   "cell_type": "code",
   "execution_count": 59,
   "metadata": {},
   "outputs": [],
   "source": [
    "@dataclass\n",
    "class Subject:\n",
    "    code: str\n",
    "    name: str\n",
    "    classification_name: str\n",
    "    alternative_names: list[str]\n",
    "    related: list[str]"
   ]
  },
  {
   "cell_type": "code",
   "execution_count": null,
   "metadata": {},
   "outputs": [
    {
     "ename": "AGEQueryException",
     "evalue": "{'message': 'Error executing graph query: CREATE UNIQUE INDEX ON :Subject(code)', 'detail': 'syntax error at or near \"INDEX\"\\nLINE 2:             CREATE UNIQUE INDEX ON :Subject(code)\\n                                  ^\\n'}",
     "output_type": "error",
     "traceback": [
      "\u001b[0;31m---------------------------------------------------------------------------\u001b[0m",
      "\u001b[0;31mSyntaxError\u001b[0m                               Traceback (most recent call last)",
      "File \u001b[0;32m~/.cache/pypoetry/virtualenvs/fii-advrn-project-OBGXxNtN-py3.12/lib/python3.12/site-packages/langchain_community/graphs/age_graph.py:617\u001b[0m, in \u001b[0;36mAGEGraph.query\u001b[0;34m(self, query, params)\u001b[0m\n\u001b[1;32m    616\u001b[0m \u001b[38;5;28;01mtry\u001b[39;00m:\n\u001b[0;32m--> 617\u001b[0m     \u001b[43mcurs\u001b[49m\u001b[38;5;241;43m.\u001b[39;49m\u001b[43mexecute\u001b[49m\u001b[43m(\u001b[49m\u001b[43mwrapped_query\u001b[49m\u001b[43m)\u001b[49m\n\u001b[1;32m    618\u001b[0m     \u001b[38;5;28mself\u001b[39m\u001b[38;5;241m.\u001b[39mconnection\u001b[38;5;241m.\u001b[39mcommit()\n",
      "File \u001b[0;32m~/.cache/pypoetry/virtualenvs/fii-advrn-project-OBGXxNtN-py3.12/lib/python3.12/site-packages/psycopg2/extras.py:312\u001b[0m, in \u001b[0;36mNamedTupleCursor.execute\u001b[0;34m(self, query, vars)\u001b[0m\n\u001b[1;32m    311\u001b[0m \u001b[38;5;28mself\u001b[39m\u001b[38;5;241m.\u001b[39mRecord \u001b[38;5;241m=\u001b[39m \u001b[38;5;28;01mNone\u001b[39;00m\n\u001b[0;32m--> 312\u001b[0m \u001b[38;5;28;01mreturn\u001b[39;00m \u001b[38;5;28;43msuper\u001b[39;49m\u001b[43m(\u001b[49m\u001b[43m)\u001b[49m\u001b[38;5;241;43m.\u001b[39;49m\u001b[43mexecute\u001b[49m\u001b[43m(\u001b[49m\u001b[43mquery\u001b[49m\u001b[43m,\u001b[49m\u001b[43m \u001b[49m\u001b[38;5;28;43mvars\u001b[39;49m\u001b[43m)\u001b[49m\n",
      "\u001b[0;31mSyntaxError\u001b[0m: syntax error at or near \"INDEX\"\nLINE 2:             CREATE UNIQUE INDEX ON :Subject(code)\n                                  ^\n",
      "\nDuring handling of the above exception, another exception occurred:\n",
      "\u001b[0;31mAGEQueryException\u001b[0m                         Traceback (most recent call last)",
      "Cell \u001b[0;32mIn[60], line 28\u001b[0m\n\u001b[1;32m     21\u001b[0m \u001b[38;5;28;01mfor\u001b[39;00m subject \u001b[38;5;129;01min\u001b[39;00m subjects:\n\u001b[1;32m     22\u001b[0m     graph\u001b[38;5;241m.\u001b[39mquery(\n\u001b[1;32m     23\u001b[0m         \u001b[38;5;124mf\u001b[39m\u001b[38;5;124m\"\"\"\u001b[39m\n\u001b[1;32m     24\u001b[0m \u001b[38;5;124m        CREATE (s:Subject \u001b[39m\u001b[38;5;130;01m{{\u001b[39;00m\u001b[38;5;124mcode: \u001b[39m\u001b[38;5;124m'\u001b[39m\u001b[38;5;132;01m{\u001b[39;00msubject\u001b[38;5;241m.\u001b[39mcode\u001b[38;5;132;01m}\u001b[39;00m\u001b[38;5;124m'\u001b[39m\u001b[38;5;124m, name: \u001b[39m\u001b[38;5;124m'\u001b[39m\u001b[38;5;132;01m{\u001b[39;00msubject\u001b[38;5;241m.\u001b[39mcode\u001b[38;5;132;01m}\u001b[39;00m\u001b[38;5;124m'\u001b[39m\u001b[38;5;124m, classification_name: \u001b[39m\u001b[38;5;124m'\u001b[39m\u001b[38;5;132;01m{\u001b[39;00msubject\u001b[38;5;241m.\u001b[39mclassification_name\u001b[38;5;132;01m}\u001b[39;00m\u001b[38;5;124m'\u001b[39m\u001b[38;5;130;01m}}\u001b[39;00m\u001b[38;5;124m)\u001b[39m\n\u001b[1;32m     25\u001b[0m \u001b[38;5;124m        \u001b[39m\u001b[38;5;124m\"\"\"\u001b[39m,\n\u001b[1;32m     26\u001b[0m     )\n\u001b[0;32m---> 28\u001b[0m \u001b[43mgraph\u001b[49m\u001b[38;5;241;43m.\u001b[39;49m\u001b[43mquery\u001b[49m\u001b[43m(\u001b[49m\u001b[38;5;124;43m\"\u001b[39;49m\u001b[38;5;124;43mCREATE UNIQUE INDEX ON :Subject(code)\u001b[39;49m\u001b[38;5;124;43m\"\u001b[39;49m\u001b[43m)\u001b[49m\n\u001b[1;32m     29\u001b[0m graph\u001b[38;5;241m.\u001b[39mquery(\u001b[38;5;124m\"\u001b[39m\u001b[38;5;124mCREATE UNIQUE INDEX ON :Subject(name)\u001b[39m\u001b[38;5;124m\"\u001b[39m)\n",
      "File \u001b[0;32m~/.cache/pypoetry/virtualenvs/fii-advrn-project-OBGXxNtN-py3.12/lib/python3.12/site-packages/langchain_community/graphs/age_graph.py:621\u001b[0m, in \u001b[0;36mAGEGraph.query\u001b[0;34m(self, query, params)\u001b[0m\n\u001b[1;32m    619\u001b[0m \u001b[38;5;28;01mexcept\u001b[39;00m psycopg2\u001b[38;5;241m.\u001b[39mError \u001b[38;5;28;01mas\u001b[39;00m e:\n\u001b[1;32m    620\u001b[0m     \u001b[38;5;28mself\u001b[39m\u001b[38;5;241m.\u001b[39mconnection\u001b[38;5;241m.\u001b[39mrollback()\n\u001b[0;32m--> 621\u001b[0m     \u001b[38;5;28;01mraise\u001b[39;00m AGEQueryException(\n\u001b[1;32m    622\u001b[0m         {\n\u001b[1;32m    623\u001b[0m             \u001b[38;5;124m\"\u001b[39m\u001b[38;5;124mmessage\u001b[39m\u001b[38;5;124m\"\u001b[39m: \u001b[38;5;124m\"\u001b[39m\u001b[38;5;124mError executing graph query: \u001b[39m\u001b[38;5;132;01m{}\u001b[39;00m\u001b[38;5;124m\"\u001b[39m\u001b[38;5;241m.\u001b[39mformat(query),\n\u001b[1;32m    624\u001b[0m             \u001b[38;5;124m\"\u001b[39m\u001b[38;5;124mdetail\u001b[39m\u001b[38;5;124m\"\u001b[39m: \u001b[38;5;28mstr\u001b[39m(e),\n\u001b[1;32m    625\u001b[0m         }\n\u001b[1;32m    626\u001b[0m     )\n\u001b[1;32m    628\u001b[0m data \u001b[38;5;241m=\u001b[39m curs\u001b[38;5;241m.\u001b[39mfetchall()\n\u001b[1;32m    629\u001b[0m \u001b[38;5;28;01mif\u001b[39;00m data \u001b[38;5;129;01mis\u001b[39;00m \u001b[38;5;28;01mNone\u001b[39;00m:\n",
      "\u001b[0;31mAGEQueryException\u001b[0m: {'message': 'Error executing graph query: CREATE UNIQUE INDEX ON :Subject(code)', 'detail': 'syntax error at or near \"INDEX\"\\nLINE 2:             CREATE UNIQUE INDEX ON :Subject(code)\\n                                  ^\\n'}"
     ]
    }
   ],
   "source": [
    "with open(\"llms4subjects/shared-task-datasets/GND/dataset/GND-Subjects-tib-core.json\", \"r\") as gnd_subjects_file:\n",
    "    gnd_subjects = json.load(gnd_subjects_file)\n",
    "\n",
    "subjects = [\n",
    "    Subject(\n",
    "        code=urllib.parse.quote_plus(subject[\"Code\"]),\n",
    "        name=urllib.parse.quote_plus(subject[\"Name\"]),\n",
    "        classification_name=urllib.parse.quote_plus(subject[\"Classification Name\"]),\n",
    "        alternative_names=[\n",
    "            urllib.parse.quote_plus(alternative_name)\n",
    "            for alternative_name in subject[\"Alternate Name\"]\n",
    "        ],\n",
    "        related=[\n",
    "            urllib.parse.quote_plus(related)\n",
    "            for related in subject[\"Related Subjects\"]\n",
    "        ]\n",
    "    )\n",
    "    for subject in gnd_subjects\n",
    "]\n",
    "\n",
    "for subject in subjects:\n",
    "    graph.query(\n",
    "        f\"\"\"\n",
    "        CREATE (s:Subject {{code: '{subject.code}', name: '{subject.code}', classification_name: '{subject.classification_name}'}})\n",
    "        \"\"\",\n",
    "    )"
   ]
  },
  {
   "cell_type": "code",
   "execution_count": 74,
   "metadata": {},
   "outputs": [],
   "source": [
    "import psycopg2\n",
    "conn: psycopg2.extensions.connection = graph.connection\n",
    "conn.commit()\n",
    "with conn.cursor() as cursor:\n",
    "    cursor.execute(\"CREATE UNIQUE INDEX IF NOT EXISTS subject_code ON gnd.\\\"Subject\\\"(ag_catalog.agtype_access_operator(properties, '\\\"code\\\"'::agtype))\")\n",
    "    cursor.execute(\"CREATE UNIQUE INDEX IF NOT EXISTS subject_name ON gnd.\\\"Subject\\\"(ag_catalog.agtype_access_operator(properties, '\\\"name\\\"'::agtype))\")\n",
    "conn.commit()"
   ]
  },
  {
   "cell_type": "code",
   "execution_count": 76,
   "metadata": {},
   "outputs": [],
   "source": [
    "for subject in subjects:\n",
    "    for alternative_name in subject.alternative_names:\n",
    "        graph.query(\n",
    "            f\"\"\"\n",
    "            CREATE (a:AlternativeName {{name: \"{alternative_name}\"}})\n",
    "            \"\"\"\n",
    "        )\n",
    "        graph.query(\n",
    "            f\"\"\"\n",
    "            MATCH (s:Subject {{code: \"{subject.code}\"}}), (a:AlternativeName {{name: \"{alternative_name}\"}})\n",
    "                MERGE (s)-[:ALTERNATIVE_NAME]->(a)\n",
    "            \"\"\"\n",
    "        )"
   ]
  },
  {
   "cell_type": "code",
   "execution_count": 78,
   "metadata": {},
   "outputs": [],
   "source": [
    "import psycopg2\n",
    "conn: psycopg2.extensions.connection = graph.connection\n",
    "conn.commit()\n",
    "with conn.cursor() as cursor:\n",
    "    cursor.execute(\"CREATE INDEX IF NOT EXISTS alternativename_name ON gnd.\\\"AlternativeName\\\"(ag_catalog.agtype_access_operator(properties, '\\\"name\\\"'::agtype))\")\n",
    "conn.commit()"
   ]
  },
  {
   "cell_type": "code",
   "execution_count": 79,
   "metadata": {},
   "outputs": [],
   "source": [
    "for subject in subjects:\n",
    "    for related_subject in subject.related:\n",
    "        graph.query(\n",
    "            f\"\"\"\n",
    "            MATCH (s1:Subject {{name: \"{subject.name}\"}}), (s2:Subject {{name: \"{related_subject}\"}})\n",
    "                MERGE (s1)-[:RELATED]->(s2)\n",
    "            \"\"\"\n",
    "        )"
   ]
  }
 ],
 "metadata": {
  "kernelspec": {
   "display_name": "fii-advrn-project-OBGXxNtN-py3.12",
   "language": "python",
   "name": "python3"
  },
  "language_info": {
   "codemirror_mode": {
    "name": "ipython",
    "version": 3
   },
   "file_extension": ".py",
   "mimetype": "text/x-python",
   "name": "python",
   "nbconvert_exporter": "python",
   "pygments_lexer": "ipython3",
   "version": "3.12.7"
  }
 },
 "nbformat": 4,
 "nbformat_minor": 2
}
